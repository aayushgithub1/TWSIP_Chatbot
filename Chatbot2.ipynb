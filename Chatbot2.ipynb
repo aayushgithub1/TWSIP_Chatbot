{
  "nbformat": 4,
  "nbformat_minor": 0,
  "metadata": {
    "colab": {
      "provenance": [],
      "mount_file_id": "1TY4PKn5Q7G6IGDHeWuOGfmenYcsq0iDP",
      "authorship_tag": "ABX9TyOSm/I/IbiB3vk5TbfeKPXm",
      "include_colab_link": true
    },
    "kernelspec": {
      "name": "python3",
      "display_name": "Python 3"
    },
    "language_info": {
      "name": "python"
    }
  },
  "cells": [
    {
      "cell_type": "markdown",
      "metadata": {
        "id": "view-in-github",
        "colab_type": "text"
      },
      "source": [
        "<a href=\"https://colab.research.google.com/github/aayushgithub1/TWSIP_Chatbot/blob/main/Chatbot2.ipynb\" target=\"_parent\"><img src=\"https://colab.research.google.com/assets/colab-badge.svg\" alt=\"Open In Colab\"/></a>"
      ]
    },
    {
      "cell_type": "code",
      "execution_count": 1,
      "metadata": {
        "colab": {
          "base_uri": "https://localhost:8080/"
        },
        "id": "s-Oq8yuqETlY",
        "outputId": "51e54b1c-7b5e-49e4-dfcc-9979553c3b9e"
      },
      "outputs": [
        {
          "output_type": "stream",
          "name": "stdout",
          "text": [
            "Drive already mounted at /content/drive; to attempt to forcibly remount, call drive.mount(\"/content/drive\", force_remount=True).\n"
          ]
        }
      ],
      "source": [
        "from google.colab import drive\n",
        "drive.mount('/content/drive')\n"
      ]
    },
    {
      "cell_type": "code",
      "source": [
        "%cd /content/drive/MyDrive/Chatbot\n"
      ],
      "metadata": {
        "colab": {
          "base_uri": "https://localhost:8080/"
        },
        "id": "MFLeFSmKFERB",
        "outputId": "629af4ec-456f-440e-e508-3c0f01237a45"
      },
      "execution_count": 2,
      "outputs": [
        {
          "output_type": "stream",
          "name": "stdout",
          "text": [
            "/content/drive/MyDrive/Chatbot\n"
          ]
        }
      ]
    },
    {
      "cell_type": "code",
      "source": [
        "! git clone https://github.com/aayushgithub1/Chatbot1"
      ],
      "metadata": {
        "colab": {
          "base_uri": "https://localhost:8080/"
        },
        "id": "2NfpkA3AFETl",
        "outputId": "139af488-e823-4e8b-e87a-4532e97d6aad"
      },
      "execution_count": 3,
      "outputs": [
        {
          "output_type": "stream",
          "name": "stdout",
          "text": [
            "fatal: destination path 'Chatbot1' already exists and is not an empty directory.\n"
          ]
        }
      ]
    },
    {
      "cell_type": "code",
      "source": [
        "%cd /content/drive/MyDrive/Chatbot/Chatbot1\n"
      ],
      "metadata": {
        "colab": {
          "base_uri": "https://localhost:8080/"
        },
        "id": "UR2LBz9rFEWr",
        "outputId": "59876871-55b4-4e89-f94e-7fc25b612743"
      },
      "execution_count": 4,
      "outputs": [
        {
          "output_type": "stream",
          "name": "stdout",
          "text": [
            "/content/drive/MyDrive/Chatbot/Chatbot1\n"
          ]
        }
      ]
    },
    {
      "cell_type": "code",
      "source": [
        "!git pull\n"
      ],
      "metadata": {
        "colab": {
          "base_uri": "https://localhost:8080/"
        },
        "id": "MdraGcwnFEY5",
        "outputId": "1ba2e072-bf7a-409a-b40d-56a90db73eca"
      },
      "execution_count": 5,
      "outputs": [
        {
          "output_type": "stream",
          "name": "stdout",
          "text": [
            "Already up to date.\n"
          ]
        }
      ]
    },
    {
      "cell_type": "code",
      "source": [
        "import warnings\n",
        "warnings.filterwarnings(\"ignore\")\n",
        "import nltk\n",
        "from nltk.stem import WordNetLemmatizer\n",
        "import json\n",
        "import pickle\n",
        "\n",
        "import numpy as np\n",
        "from tensorflow.keras.models import Sequential\n",
        "from tensorflow.keras.layers import Dense, Activation, Dropout\n",
        "from tensorflow.keras.optimizers import SGD\n",
        "import random\n",
        "from keras.models import load_model\n",
        "\n",
        "\n",
        "lemmatizer = WordNetLemmatizer()\n",
        "\n",
        "words=[]\n",
        "classes = []\n",
        "documents = []\n",
        "ignore_words = ['?', '!']\n",
        "data_file = open('/content/drive/MyDrive/Chatbot/Train_Bot.json').read()\n",
        "intents = json.loads(data_file)\n"
      ],
      "metadata": {
        "id": "HfVyUq_wFEcU"
      },
      "execution_count": 6,
      "outputs": []
    },
    {
      "cell_type": "code",
      "source": [
        "nltk.download('punkt')\n",
        "nltk.download('wordnet')\n",
        "for intent in intents['intents']:\n",
        "    for pattern in intent['patterns']:\n",
        "\n",
        "        w = nltk.word_tokenize(pattern)\n",
        "        words.extend(w)\n",
        "        documents.append((w, intent['tag']))\n",
        "\n",
        "        if intent['tag'] not in classes:\n",
        "            classes.append(intent['tag'])"
      ],
      "metadata": {
        "colab": {
          "base_uri": "https://localhost:8080/"
        },
        "id": "NN0Tz7BtKDIO",
        "outputId": "44ffdcec-4462-46a7-ef68-6120798b5551"
      },
      "execution_count": 7,
      "outputs": [
        {
          "output_type": "stream",
          "name": "stderr",
          "text": [
            "[nltk_data] Downloading package punkt to /root/nltk_data...\n",
            "[nltk_data]   Unzipping tokenizers/punkt.zip.\n",
            "[nltk_data] Downloading package wordnet to /root/nltk_data...\n"
          ]
        }
      ]
    },
    {
      "cell_type": "code",
      "source": [
        "words = [lemmatizer.lemmatize(w.lower()) for w in words if w not in ignore_words]\n",
        "words = sorted(list(set(words)))\n",
        "\n",
        "classes = sorted(list(set(classes)))\n",
        "print (len(documents), \"documents\")\n",
        "print (len(classes), \"classes\", classes)\n",
        "print (len(words), \"unique lemmatized words\", words)\n",
        "pickle.dump(words,open('words.pkl','wb'))\n",
        "pickle.dump(classes,open('classes.pkl','wb'))"
      ],
      "metadata": {
        "colab": {
          "base_uri": "https://localhost:8080/"
        },
        "id": "q7IUbBBDKDKV",
        "outputId": "572d8d66-f962-4d24-af07-935c43d44825"
      },
      "execution_count": 8,
      "outputs": [
        {
          "output_type": "stream",
          "name": "stdout",
          "text": [
            "128 documents\n",
            "8 classes ['Bot', 'Exit', 'Intro', 'NN', 'Olympus', 'Profane', 'SL', 'Ticket']\n",
            "158 unique lemmatized words ['a', 'able', 'access', 'activation', 'ada', 'adam', 'aifl', 'aiml', 'am', 'an', 'ann', 'anyone', 'are', 'artificial', 'backward', 'bad', 'bagging', 'batch', 'bayes', 'belong', 'best', 'blended', 'bloody', 'boosting', 'bot', 'buddy', 'classification', 'contact', 'create', 'cross', 'cya', 'day', 'deep', 'did', 'diffult', 'do', 'ensemble', 'epoch', 'explain', 'first', 'for', 'forest', 'forward', 'from', 'function', 'good', 'goodbye', 'gradient', 'great', 'hate', 'have', 'hell', 'hello', 'help', 'helped', 'hey', 'hi', 'hidden', 'hour', 'how', 'hyper', 'i', 'imputer', 'in', 'intelligence', 'is', 'jerk', 'joke', 'knn', 'later', 'layer', 'learner', 'learning', 'leaving', 'link', 'listen', 'logistic', 'lot', 'machine', 'me', 'ml', 'my', 'naive', 'name', 'nb', 'net', 'network', 'neural', 'no', 'not', 'of', 'olympus', 'olypus', 'on', 'online', 'operation', 'opertions', 'otimizer', 'parameter', 'piece', 'please', 'pm', 'problem', 'propagation', 'random', 'regression', 'relu', 'screw', 'see', 'sgd', 'shit', 'sigmoid', 'sl', 'smart', 'softmax', 'solution', 'solved', 'stupid', 'supervised', 'svm', 'talking', 'teach', 'techb=niques', 'technique', 'thank', 'thanks', 'the', 'there', 'think', 'ticket', 'time', 'to', 'ton', 'too', 'tool', 'unable', 'understand', 'up', 'use', 'useless', 'validation', 'very', 'visible', 'wasted', 'weight', 'what', 'whats', 'when', 'who', 'whom', 'window', 'with', 'work', 'working', 'ya', 'yo', 'you', 'your']\n"
          ]
        }
      ]
    },
    {
      "cell_type": "code",
      "source": [
        "training = []\n",
        "\n",
        "output_empty = [0] * len(classes)\n",
        "\n",
        "for doc in documents:\n",
        "    bag = []\n",
        "    pattern_words = doc[0]\n",
        "\n",
        "    pattern_words = [lemmatizer.lemmatize(word.lower()) for word in pattern_words]\n",
        "\n",
        "    for w in words:\n",
        "        bag.append(1) if w in pattern_words else bag.append(0)\n",
        "\n",
        "    output_row = list(output_empty)\n",
        "    output_row[classes.index(doc[1])] = 1\n",
        "    training.append([bag, output_row])\n",
        "\n",
        "random.shuffle(training)\n",
        "training = np.array(training)\n",
        "\n",
        "train_x = list(training[:,0])\n",
        "train_y = list(training[:,1])\n",
        "\n",
        "print(\"Training data created\")"
      ],
      "metadata": {
        "colab": {
          "base_uri": "https://localhost:8080/"
        },
        "id": "RuSkVlwuKDNu",
        "outputId": "978dc117-7759-41a7-980f-6f2d47dc133a"
      },
      "execution_count": 9,
      "outputs": [
        {
          "output_type": "stream",
          "name": "stdout",
          "text": [
            "Training data created\n"
          ]
        }
      ]
    },
    {
      "cell_type": "code",
      "source": [
        "from tensorflow import keras\n",
        "from tensorflow.keras.models import Sequential\n",
        "from tensorflow.keras.layers import Dense, Dropout\n",
        "from tensorflow.keras.optimizers import SGD\n",
        "\n",
        "model = Sequential()\n",
        "model.add(Dense(128, input_shape=(len(train_x[0]),), activation='relu'))\n",
        "model.add(Dropout(0.5))\n",
        "model.add(Dense(64, activation='relu'))\n",
        "model.add(Dropout(0.5))\n",
        "model.add(Dense(len(train_y[0]), activation='softmax'))\n",
        "\n",
        "sgd = SGD(learning_rate=0.01, momentum=0.9, nesterov=True)\n",
        "model.compile(loss='categorical_crossentropy', optimizer=sgd, metrics=['accuracy'])\n",
        "\n",
        "\n",
        "hist = model.fit(np.array(train_x), np.array(train_y), epochs=200, batch_size=5, verbose=1)\n",
        "model.save('chatbot.h5')\n",
        "\n",
        "print(\"\\n\")\n",
        "print(\"*\" * 50)\n",
        "print(\"\\nModel Created Successfully!\")\n"
      ],
      "metadata": {
        "colab": {
          "base_uri": "https://localhost:8080/"
        },
        "id": "LmWHHvIjKDWb",
        "outputId": "6fdba719-58d2-460f-9ee8-c60ff2e4cc57"
      },
      "execution_count": 10,
      "outputs": [
        {
          "output_type": "stream",
          "name": "stdout",
          "text": [
            "Epoch 1/200\n",
            "26/26 [==============================] - 1s 4ms/step - loss: 2.0779 - accuracy: 0.1406\n",
            "Epoch 2/200\n",
            "26/26 [==============================] - 0s 6ms/step - loss: 1.9631 - accuracy: 0.2109\n",
            "Epoch 3/200\n",
            "26/26 [==============================] - 0s 4ms/step - loss: 1.8553 - accuracy: 0.2578\n",
            "Epoch 4/200\n",
            "26/26 [==============================] - 0s 4ms/step - loss: 1.7483 - accuracy: 0.3594\n",
            "Epoch 5/200\n",
            "26/26 [==============================] - 0s 3ms/step - loss: 1.7118 - accuracy: 0.3750\n",
            "Epoch 6/200\n",
            "26/26 [==============================] - 0s 3ms/step - loss: 1.5825 - accuracy: 0.4688\n",
            "Epoch 7/200\n",
            "26/26 [==============================] - 0s 3ms/step - loss: 1.4150 - accuracy: 0.5156\n",
            "Epoch 8/200\n",
            "26/26 [==============================] - 0s 3ms/step - loss: 1.2580 - accuracy: 0.6328\n",
            "Epoch 9/200\n",
            "26/26 [==============================] - 0s 2ms/step - loss: 1.1649 - accuracy: 0.5781\n",
            "Epoch 10/200\n",
            "26/26 [==============================] - 0s 2ms/step - loss: 1.1450 - accuracy: 0.6172\n",
            "Epoch 11/200\n",
            "26/26 [==============================] - 0s 2ms/step - loss: 0.9630 - accuracy: 0.7578\n",
            "Epoch 12/200\n",
            "26/26 [==============================] - 0s 3ms/step - loss: 0.7942 - accuracy: 0.7500\n",
            "Epoch 13/200\n",
            "26/26 [==============================] - 0s 2ms/step - loss: 0.7388 - accuracy: 0.7734\n",
            "Epoch 14/200\n",
            "26/26 [==============================] - 0s 3ms/step - loss: 0.5872 - accuracy: 0.8125\n",
            "Epoch 15/200\n",
            "26/26 [==============================] - 0s 2ms/step - loss: 0.4834 - accuracy: 0.8750\n",
            "Epoch 16/200\n",
            "26/26 [==============================] - 0s 2ms/step - loss: 0.6093 - accuracy: 0.8203\n",
            "Epoch 17/200\n",
            "26/26 [==============================] - 0s 3ms/step - loss: 0.4814 - accuracy: 0.8516\n",
            "Epoch 18/200\n",
            "26/26 [==============================] - 0s 3ms/step - loss: 0.5087 - accuracy: 0.8203\n",
            "Epoch 19/200\n",
            "26/26 [==============================] - 0s 3ms/step - loss: 0.4062 - accuracy: 0.8984\n",
            "Epoch 20/200\n",
            "26/26 [==============================] - 0s 2ms/step - loss: 0.3347 - accuracy: 0.9062\n",
            "Epoch 21/200\n",
            "26/26 [==============================] - 0s 2ms/step - loss: 0.3462 - accuracy: 0.8984\n",
            "Epoch 22/200\n",
            "26/26 [==============================] - 0s 2ms/step - loss: 0.2420 - accuracy: 0.9375\n",
            "Epoch 23/200\n",
            "26/26 [==============================] - 0s 2ms/step - loss: 0.2882 - accuracy: 0.9297\n",
            "Epoch 24/200\n",
            "26/26 [==============================] - 0s 2ms/step - loss: 0.1801 - accuracy: 0.9688\n",
            "Epoch 25/200\n",
            "26/26 [==============================] - 0s 2ms/step - loss: 0.2427 - accuracy: 0.9297\n",
            "Epoch 26/200\n",
            "26/26 [==============================] - 0s 3ms/step - loss: 0.2169 - accuracy: 0.9531\n",
            "Epoch 27/200\n",
            "26/26 [==============================] - 0s 3ms/step - loss: 0.1952 - accuracy: 0.9219\n",
            "Epoch 28/200\n",
            "26/26 [==============================] - 0s 3ms/step - loss: 0.1516 - accuracy: 0.9688\n",
            "Epoch 29/200\n",
            "26/26 [==============================] - 0s 2ms/step - loss: 0.1594 - accuracy: 0.9688\n",
            "Epoch 30/200\n",
            "26/26 [==============================] - 0s 2ms/step - loss: 0.1377 - accuracy: 0.9609\n",
            "Epoch 31/200\n",
            "26/26 [==============================] - 0s 2ms/step - loss: 0.1529 - accuracy: 0.9609\n",
            "Epoch 32/200\n",
            "26/26 [==============================] - 0s 3ms/step - loss: 0.1318 - accuracy: 0.9609\n",
            "Epoch 33/200\n",
            "26/26 [==============================] - 0s 2ms/step - loss: 0.1207 - accuracy: 0.9688\n",
            "Epoch 34/200\n",
            "26/26 [==============================] - 0s 2ms/step - loss: 0.1454 - accuracy: 0.9375\n",
            "Epoch 35/200\n",
            "26/26 [==============================] - 0s 2ms/step - loss: 0.1295 - accuracy: 0.9609\n",
            "Epoch 36/200\n",
            "26/26 [==============================] - 0s 3ms/step - loss: 0.1173 - accuracy: 0.9688\n",
            "Epoch 37/200\n",
            "26/26 [==============================] - 0s 2ms/step - loss: 0.0926 - accuracy: 0.9766\n",
            "Epoch 38/200\n",
            "26/26 [==============================] - 0s 2ms/step - loss: 0.1188 - accuracy: 0.9688\n",
            "Epoch 39/200\n",
            "26/26 [==============================] - 0s 2ms/step - loss: 0.1246 - accuracy: 0.9609\n",
            "Epoch 40/200\n",
            "26/26 [==============================] - 0s 2ms/step - loss: 0.0964 - accuracy: 0.9766\n",
            "Epoch 41/200\n",
            "26/26 [==============================] - 0s 2ms/step - loss: 0.0746 - accuracy: 0.9844\n",
            "Epoch 42/200\n",
            "26/26 [==============================] - 0s 3ms/step - loss: 0.0533 - accuracy: 0.9844\n",
            "Epoch 43/200\n",
            "26/26 [==============================] - 0s 3ms/step - loss: 0.0441 - accuracy: 1.0000\n",
            "Epoch 44/200\n",
            "26/26 [==============================] - 0s 3ms/step - loss: 0.0725 - accuracy: 0.9844\n",
            "Epoch 45/200\n",
            "26/26 [==============================] - 0s 2ms/step - loss: 0.0745 - accuracy: 0.9844\n",
            "Epoch 46/200\n",
            "26/26 [==============================] - 0s 2ms/step - loss: 0.0753 - accuracy: 0.9766\n",
            "Epoch 47/200\n",
            "26/26 [==============================] - 0s 3ms/step - loss: 0.0948 - accuracy: 0.9844\n",
            "Epoch 48/200\n",
            "26/26 [==============================] - 0s 2ms/step - loss: 0.0814 - accuracy: 0.9766\n",
            "Epoch 49/200\n",
            "26/26 [==============================] - 0s 2ms/step - loss: 0.0561 - accuracy: 1.0000\n",
            "Epoch 50/200\n",
            "26/26 [==============================] - 0s 2ms/step - loss: 0.0564 - accuracy: 0.9844\n",
            "Epoch 51/200\n",
            "26/26 [==============================] - 0s 3ms/step - loss: 0.0647 - accuracy: 0.9844\n",
            "Epoch 52/200\n",
            "26/26 [==============================] - 0s 2ms/step - loss: 0.0440 - accuracy: 0.9844\n",
            "Epoch 53/200\n",
            "26/26 [==============================] - 0s 3ms/step - loss: 0.0694 - accuracy: 0.9766\n",
            "Epoch 54/200\n",
            "26/26 [==============================] - 0s 2ms/step - loss: 0.0557 - accuracy: 0.9922\n",
            "Epoch 55/200\n",
            "26/26 [==============================] - 0s 3ms/step - loss: 0.0575 - accuracy: 0.9844\n",
            "Epoch 56/200\n",
            "26/26 [==============================] - 0s 3ms/step - loss: 0.0716 - accuracy: 0.9922\n",
            "Epoch 57/200\n",
            "26/26 [==============================] - 0s 2ms/step - loss: 0.0654 - accuracy: 0.9844\n",
            "Epoch 58/200\n",
            "26/26 [==============================] - 0s 2ms/step - loss: 0.0137 - accuracy: 1.0000\n",
            "Epoch 59/200\n",
            "26/26 [==============================] - 0s 2ms/step - loss: 0.0522 - accuracy: 1.0000\n",
            "Epoch 60/200\n",
            "26/26 [==============================] - 0s 3ms/step - loss: 0.0214 - accuracy: 1.0000\n",
            "Epoch 61/200\n",
            "26/26 [==============================] - 0s 2ms/step - loss: 0.0855 - accuracy: 0.9766\n",
            "Epoch 62/200\n",
            "26/26 [==============================] - 0s 2ms/step - loss: 0.0353 - accuracy: 1.0000\n",
            "Epoch 63/200\n",
            "26/26 [==============================] - 0s 2ms/step - loss: 0.0498 - accuracy: 0.9922\n",
            "Epoch 64/200\n",
            "26/26 [==============================] - 0s 3ms/step - loss: 0.0828 - accuracy: 0.9844\n",
            "Epoch 65/200\n",
            "26/26 [==============================] - 0s 2ms/step - loss: 0.0382 - accuracy: 0.9844\n",
            "Epoch 66/200\n",
            "26/26 [==============================] - 0s 2ms/step - loss: 0.0370 - accuracy: 0.9844\n",
            "Epoch 67/200\n",
            "26/26 [==============================] - 0s 3ms/step - loss: 0.0767 - accuracy: 0.9766\n",
            "Epoch 68/200\n",
            "26/26 [==============================] - 0s 2ms/step - loss: 0.0455 - accuracy: 0.9922\n",
            "Epoch 69/200\n",
            "26/26 [==============================] - 0s 3ms/step - loss: 0.0451 - accuracy: 0.9922\n",
            "Epoch 70/200\n",
            "26/26 [==============================] - 0s 3ms/step - loss: 0.0645 - accuracy: 0.9844\n",
            "Epoch 71/200\n",
            "26/26 [==============================] - 0s 2ms/step - loss: 0.0420 - accuracy: 1.0000\n",
            "Epoch 72/200\n",
            "26/26 [==============================] - 0s 2ms/step - loss: 0.0464 - accuracy: 0.9844\n",
            "Epoch 73/200\n",
            "26/26 [==============================] - 0s 2ms/step - loss: 0.0359 - accuracy: 0.9922\n",
            "Epoch 74/200\n",
            "26/26 [==============================] - 0s 2ms/step - loss: 0.0374 - accuracy: 0.9922\n",
            "Epoch 75/200\n",
            "26/26 [==============================] - 0s 2ms/step - loss: 0.0235 - accuracy: 1.0000\n",
            "Epoch 76/200\n",
            "26/26 [==============================] - 0s 2ms/step - loss: 0.0140 - accuracy: 1.0000\n",
            "Epoch 77/200\n",
            "26/26 [==============================] - 0s 2ms/step - loss: 0.0330 - accuracy: 1.0000\n",
            "Epoch 78/200\n",
            "26/26 [==============================] - 0s 2ms/step - loss: 0.0422 - accuracy: 0.9922\n",
            "Epoch 79/200\n",
            "26/26 [==============================] - 0s 2ms/step - loss: 0.0824 - accuracy: 0.9844\n",
            "Epoch 80/200\n",
            "26/26 [==============================] - 0s 2ms/step - loss: 0.0345 - accuracy: 0.9922\n",
            "Epoch 81/200\n",
            "26/26 [==============================] - 0s 2ms/step - loss: 0.0347 - accuracy: 1.0000\n",
            "Epoch 82/200\n",
            "26/26 [==============================] - 0s 3ms/step - loss: 0.0135 - accuracy: 1.0000\n",
            "Epoch 83/200\n",
            "26/26 [==============================] - 0s 2ms/step - loss: 0.0612 - accuracy: 0.9844\n",
            "Epoch 84/200\n",
            "26/26 [==============================] - 0s 2ms/step - loss: 0.0315 - accuracy: 0.9922\n",
            "Epoch 85/200\n",
            "26/26 [==============================] - 0s 3ms/step - loss: 0.0252 - accuracy: 1.0000\n",
            "Epoch 86/200\n",
            "26/26 [==============================] - 0s 3ms/step - loss: 0.0357 - accuracy: 0.9844\n",
            "Epoch 87/200\n",
            "26/26 [==============================] - 0s 2ms/step - loss: 0.0230 - accuracy: 1.0000\n",
            "Epoch 88/200\n",
            "26/26 [==============================] - 0s 2ms/step - loss: 0.0289 - accuracy: 0.9922\n",
            "Epoch 89/200\n",
            "26/26 [==============================] - 0s 3ms/step - loss: 0.0413 - accuracy: 0.9922\n",
            "Epoch 90/200\n",
            "26/26 [==============================] - 0s 2ms/step - loss: 0.0404 - accuracy: 0.9766\n",
            "Epoch 91/200\n",
            "26/26 [==============================] - 0s 2ms/step - loss: 0.0258 - accuracy: 0.9922\n",
            "Epoch 92/200\n",
            "26/26 [==============================] - 0s 2ms/step - loss: 0.0353 - accuracy: 0.9922\n",
            "Epoch 93/200\n",
            "26/26 [==============================] - 0s 2ms/step - loss: 0.0185 - accuracy: 1.0000\n",
            "Epoch 94/200\n",
            "26/26 [==============================] - 0s 2ms/step - loss: 0.0277 - accuracy: 0.9922\n",
            "Epoch 95/200\n",
            "26/26 [==============================] - 0s 2ms/step - loss: 0.0192 - accuracy: 1.0000\n",
            "Epoch 96/200\n",
            "26/26 [==============================] - 0s 3ms/step - loss: 0.0118 - accuracy: 1.0000\n",
            "Epoch 97/200\n",
            "26/26 [==============================] - 0s 3ms/step - loss: 0.0202 - accuracy: 1.0000\n",
            "Epoch 98/200\n",
            "26/26 [==============================] - 0s 3ms/step - loss: 0.0136 - accuracy: 1.0000\n",
            "Epoch 99/200\n",
            "26/26 [==============================] - 0s 2ms/step - loss: 0.0097 - accuracy: 1.0000\n",
            "Epoch 100/200\n",
            "26/26 [==============================] - 0s 3ms/step - loss: 0.0515 - accuracy: 0.9844\n",
            "Epoch 101/200\n",
            "26/26 [==============================] - 0s 2ms/step - loss: 0.0143 - accuracy: 1.0000\n",
            "Epoch 102/200\n",
            "26/26 [==============================] - 0s 2ms/step - loss: 0.0401 - accuracy: 0.9922\n",
            "Epoch 103/200\n",
            "26/26 [==============================] - 0s 2ms/step - loss: 0.0196 - accuracy: 0.9922\n",
            "Epoch 104/200\n",
            "26/26 [==============================] - 0s 2ms/step - loss: 0.0302 - accuracy: 0.9922\n",
            "Epoch 105/200\n",
            "26/26 [==============================] - 0s 2ms/step - loss: 0.0087 - accuracy: 1.0000\n",
            "Epoch 106/200\n",
            "26/26 [==============================] - 0s 2ms/step - loss: 0.0383 - accuracy: 0.9766\n",
            "Epoch 107/200\n",
            "26/26 [==============================] - 0s 2ms/step - loss: 0.0152 - accuracy: 0.9922\n",
            "Epoch 108/200\n",
            "26/26 [==============================] - 0s 2ms/step - loss: 0.0581 - accuracy: 0.9844\n",
            "Epoch 109/200\n",
            "26/26 [==============================] - 0s 3ms/step - loss: 0.0111 - accuracy: 1.0000\n",
            "Epoch 110/200\n",
            "26/26 [==============================] - 0s 3ms/step - loss: 0.0168 - accuracy: 1.0000\n",
            "Epoch 111/200\n",
            "26/26 [==============================] - 0s 2ms/step - loss: 0.0096 - accuracy: 1.0000\n",
            "Epoch 112/200\n",
            "26/26 [==============================] - 0s 2ms/step - loss: 0.0313 - accuracy: 0.9922\n",
            "Epoch 113/200\n",
            "26/26 [==============================] - 0s 2ms/step - loss: 0.0271 - accuracy: 1.0000\n",
            "Epoch 114/200\n",
            "26/26 [==============================] - 0s 3ms/step - loss: 0.0235 - accuracy: 0.9922\n",
            "Epoch 115/200\n",
            "26/26 [==============================] - 0s 2ms/step - loss: 0.0181 - accuracy: 1.0000\n",
            "Epoch 116/200\n",
            "26/26 [==============================] - 0s 2ms/step - loss: 0.0242 - accuracy: 0.9922\n",
            "Epoch 117/200\n",
            "26/26 [==============================] - 0s 2ms/step - loss: 0.0115 - accuracy: 1.0000\n",
            "Epoch 118/200\n",
            "26/26 [==============================] - 0s 2ms/step - loss: 0.0331 - accuracy: 0.9922\n",
            "Epoch 119/200\n",
            "26/26 [==============================] - 0s 2ms/step - loss: 0.0141 - accuracy: 1.0000\n",
            "Epoch 120/200\n",
            "26/26 [==============================] - 0s 2ms/step - loss: 0.0229 - accuracy: 1.0000\n",
            "Epoch 121/200\n",
            "26/26 [==============================] - 0s 2ms/step - loss: 0.0069 - accuracy: 1.0000\n",
            "Epoch 122/200\n",
            "26/26 [==============================] - 0s 2ms/step - loss: 0.0130 - accuracy: 1.0000\n",
            "Epoch 123/200\n",
            "26/26 [==============================] - 0s 3ms/step - loss: 0.0177 - accuracy: 1.0000\n",
            "Epoch 124/200\n",
            "26/26 [==============================] - 0s 3ms/step - loss: 0.0311 - accuracy: 0.9844\n",
            "Epoch 125/200\n",
            "26/26 [==============================] - 0s 2ms/step - loss: 0.0276 - accuracy: 0.9844\n",
            "Epoch 126/200\n",
            "26/26 [==============================] - 0s 2ms/step - loss: 0.0114 - accuracy: 1.0000\n",
            "Epoch 127/200\n",
            "26/26 [==============================] - 0s 2ms/step - loss: 0.0659 - accuracy: 0.9766\n",
            "Epoch 128/200\n",
            "26/26 [==============================] - 0s 3ms/step - loss: 0.0243 - accuracy: 0.9922\n",
            "Epoch 129/200\n",
            "26/26 [==============================] - 0s 3ms/step - loss: 0.0064 - accuracy: 1.0000\n",
            "Epoch 130/200\n",
            "26/26 [==============================] - 0s 2ms/step - loss: 0.0134 - accuracy: 1.0000\n",
            "Epoch 131/200\n",
            "26/26 [==============================] - 0s 2ms/step - loss: 0.0122 - accuracy: 1.0000\n",
            "Epoch 132/200\n",
            "26/26 [==============================] - 0s 3ms/step - loss: 0.0385 - accuracy: 0.9844\n",
            "Epoch 133/200\n",
            "26/26 [==============================] - 0s 2ms/step - loss: 0.0138 - accuracy: 1.0000\n",
            "Epoch 134/200\n",
            "26/26 [==============================] - 0s 3ms/step - loss: 0.0144 - accuracy: 1.0000\n",
            "Epoch 135/200\n",
            "26/26 [==============================] - 0s 3ms/step - loss: 0.0078 - accuracy: 1.0000\n",
            "Epoch 136/200\n",
            "26/26 [==============================] - 0s 2ms/step - loss: 0.0129 - accuracy: 1.0000\n",
            "Epoch 137/200\n",
            "26/26 [==============================] - 0s 3ms/step - loss: 0.0349 - accuracy: 0.9844\n",
            "Epoch 138/200\n",
            "26/26 [==============================] - 0s 2ms/step - loss: 0.0140 - accuracy: 1.0000\n",
            "Epoch 139/200\n",
            "26/26 [==============================] - 0s 2ms/step - loss: 0.0245 - accuracy: 0.9922\n",
            "Epoch 140/200\n",
            "26/26 [==============================] - 0s 2ms/step - loss: 0.0092 - accuracy: 1.0000\n",
            "Epoch 141/200\n",
            "26/26 [==============================] - 0s 2ms/step - loss: 0.0151 - accuracy: 1.0000\n",
            "Epoch 142/200\n",
            "26/26 [==============================] - 0s 3ms/step - loss: 0.0092 - accuracy: 1.0000\n",
            "Epoch 143/200\n",
            "26/26 [==============================] - 0s 2ms/step - loss: 0.0128 - accuracy: 1.0000\n",
            "Epoch 144/200\n",
            "26/26 [==============================] - 0s 4ms/step - loss: 0.0350 - accuracy: 0.9844\n",
            "Epoch 145/200\n",
            "26/26 [==============================] - 0s 3ms/step - loss: 0.0088 - accuracy: 1.0000\n",
            "Epoch 146/200\n",
            "26/26 [==============================] - 0s 3ms/step - loss: 0.0145 - accuracy: 0.9922\n",
            "Epoch 147/200\n",
            "26/26 [==============================] - 0s 9ms/step - loss: 0.0088 - accuracy: 1.0000\n",
            "Epoch 148/200\n",
            "26/26 [==============================] - 0s 15ms/step - loss: 0.0063 - accuracy: 1.0000\n",
            "Epoch 149/200\n",
            "26/26 [==============================] - 0s 5ms/step - loss: 0.0139 - accuracy: 1.0000\n",
            "Epoch 150/200\n",
            "26/26 [==============================] - 0s 3ms/step - loss: 0.0078 - accuracy: 1.0000\n",
            "Epoch 151/200\n",
            "26/26 [==============================] - 0s 4ms/step - loss: 0.0083 - accuracy: 1.0000\n",
            "Epoch 152/200\n",
            "26/26 [==============================] - 0s 4ms/step - loss: 0.0351 - accuracy: 0.9922\n",
            "Epoch 153/200\n",
            "26/26 [==============================] - 0s 15ms/step - loss: 0.0137 - accuracy: 0.9922\n",
            "Epoch 154/200\n",
            "26/26 [==============================] - 0s 10ms/step - loss: 0.0092 - accuracy: 1.0000\n",
            "Epoch 155/200\n",
            "26/26 [==============================] - 0s 4ms/step - loss: 0.0429 - accuracy: 0.9844\n",
            "Epoch 156/200\n",
            "26/26 [==============================] - 0s 4ms/step - loss: 0.0322 - accuracy: 0.9844\n",
            "Epoch 157/200\n",
            "26/26 [==============================] - 0s 4ms/step - loss: 0.0360 - accuracy: 0.9922\n",
            "Epoch 158/200\n",
            "26/26 [==============================] - 0s 3ms/step - loss: 0.0203 - accuracy: 0.9922\n",
            "Epoch 159/200\n",
            "26/26 [==============================] - 0s 4ms/step - loss: 0.0057 - accuracy: 1.0000\n",
            "Epoch 160/200\n",
            "26/26 [==============================] - 0s 18ms/step - loss: 0.0148 - accuracy: 0.9922\n",
            "Epoch 161/200\n",
            "26/26 [==============================] - 0s 7ms/step - loss: 0.0054 - accuracy: 1.0000\n",
            "Epoch 162/200\n",
            "26/26 [==============================] - 0s 3ms/step - loss: 0.0325 - accuracy: 0.9922\n",
            "Epoch 163/200\n",
            "26/26 [==============================] - 0s 3ms/step - loss: 0.0034 - accuracy: 1.0000\n",
            "Epoch 164/200\n",
            "26/26 [==============================] - 0s 4ms/step - loss: 0.0221 - accuracy: 0.9922\n",
            "Epoch 165/200\n",
            "26/26 [==============================] - 0s 4ms/step - loss: 0.0594 - accuracy: 0.9844\n",
            "Epoch 166/200\n",
            "26/26 [==============================] - 0s 4ms/step - loss: 0.0094 - accuracy: 1.0000\n",
            "Epoch 167/200\n",
            "26/26 [==============================] - 0s 3ms/step - loss: 0.0147 - accuracy: 1.0000\n",
            "Epoch 168/200\n",
            "26/26 [==============================] - 0s 3ms/step - loss: 0.0143 - accuracy: 1.0000\n",
            "Epoch 169/200\n",
            "26/26 [==============================] - 0s 3ms/step - loss: 0.0126 - accuracy: 0.9922\n",
            "Epoch 170/200\n",
            "26/26 [==============================] - 0s 4ms/step - loss: 0.0025 - accuracy: 1.0000\n",
            "Epoch 171/200\n",
            "26/26 [==============================] - 0s 3ms/step - loss: 0.0404 - accuracy: 0.9922\n",
            "Epoch 172/200\n",
            "26/26 [==============================] - 0s 4ms/step - loss: 0.0119 - accuracy: 1.0000\n",
            "Epoch 173/200\n",
            "26/26 [==============================] - 0s 3ms/step - loss: 0.0043 - accuracy: 1.0000\n",
            "Epoch 174/200\n",
            "26/26 [==============================] - 0s 3ms/step - loss: 0.0085 - accuracy: 1.0000\n",
            "Epoch 175/200\n",
            "26/26 [==============================] - 0s 3ms/step - loss: 0.0017 - accuracy: 1.0000\n",
            "Epoch 176/200\n",
            "26/26 [==============================] - 0s 3ms/step - loss: 0.0099 - accuracy: 0.9922\n",
            "Epoch 177/200\n",
            "26/26 [==============================] - 0s 4ms/step - loss: 0.0051 - accuracy: 1.0000\n",
            "Epoch 178/200\n",
            "26/26 [==============================] - 0s 3ms/step - loss: 0.0151 - accuracy: 1.0000\n",
            "Epoch 179/200\n",
            "26/26 [==============================] - 0s 3ms/step - loss: 0.0152 - accuracy: 0.9922\n",
            "Epoch 180/200\n",
            "26/26 [==============================] - 0s 3ms/step - loss: 0.0178 - accuracy: 0.9922\n",
            "Epoch 181/200\n",
            "26/26 [==============================] - 0s 4ms/step - loss: 0.0186 - accuracy: 0.9922\n",
            "Epoch 182/200\n",
            "26/26 [==============================] - 0s 3ms/step - loss: 0.0129 - accuracy: 1.0000\n",
            "Epoch 183/200\n",
            "26/26 [==============================] - 0s 4ms/step - loss: 0.0065 - accuracy: 1.0000\n",
            "Epoch 184/200\n",
            "26/26 [==============================] - 0s 3ms/step - loss: 0.0057 - accuracy: 1.0000\n",
            "Epoch 185/200\n",
            "26/26 [==============================] - 0s 3ms/step - loss: 0.0090 - accuracy: 1.0000\n",
            "Epoch 186/200\n",
            "26/26 [==============================] - 0s 2ms/step - loss: 0.0063 - accuracy: 1.0000\n",
            "Epoch 187/200\n",
            "26/26 [==============================] - 0s 2ms/step - loss: 0.0152 - accuracy: 0.9922\n",
            "Epoch 188/200\n",
            "26/26 [==============================] - 0s 2ms/step - loss: 0.0059 - accuracy: 1.0000\n",
            "Epoch 189/200\n",
            "26/26 [==============================] - 0s 2ms/step - loss: 0.0365 - accuracy: 0.9766\n",
            "Epoch 190/200\n",
            "26/26 [==============================] - 0s 2ms/step - loss: 0.0056 - accuracy: 1.0000\n",
            "Epoch 191/200\n",
            "26/26 [==============================] - 0s 2ms/step - loss: 0.0255 - accuracy: 0.9922\n",
            "Epoch 192/200\n",
            "26/26 [==============================] - 0s 3ms/step - loss: 0.0237 - accuracy: 0.9922\n",
            "Epoch 193/200\n",
            "26/26 [==============================] - 0s 3ms/step - loss: 0.0290 - accuracy: 0.9922\n",
            "Epoch 194/200\n",
            "26/26 [==============================] - 0s 2ms/step - loss: 0.0130 - accuracy: 1.0000\n",
            "Epoch 195/200\n",
            "26/26 [==============================] - 0s 3ms/step - loss: 0.0264 - accuracy: 0.9922\n",
            "Epoch 196/200\n",
            "26/26 [==============================] - 0s 2ms/step - loss: 0.0192 - accuracy: 0.9922\n",
            "Epoch 197/200\n",
            "26/26 [==============================] - 0s 2ms/step - loss: 0.0098 - accuracy: 1.0000\n",
            "Epoch 198/200\n",
            "26/26 [==============================] - 0s 2ms/step - loss: 0.0106 - accuracy: 0.9922\n",
            "Epoch 199/200\n",
            "26/26 [==============================] - 0s 2ms/step - loss: 0.0102 - accuracy: 1.0000\n",
            "Epoch 200/200\n",
            "26/26 [==============================] - 0s 2ms/step - loss: 0.0150 - accuracy: 1.0000\n",
            "\n",
            "\n",
            "**************************************************\n",
            "\n",
            "Model Created Successfully!\n"
          ]
        }
      ]
    },
    {
      "cell_type": "code",
      "source": [
        "model = load_model('chatbot.h5')\n",
        "intents = json.loads(open('/content/drive/MyDrive/Chatbot/Train_Bot.json').read())\n",
        "words = pickle.load(open('words.pkl','rb'))\n",
        "classes = pickle.load(open('classes.pkl','rb'))"
      ],
      "metadata": {
        "id": "5Ox3QxfuFEfb"
      },
      "execution_count": 11,
      "outputs": []
    },
    {
      "cell_type": "code",
      "source": [
        "def clean_up_sentence(sentence):\n",
        "\n",
        "    sentence_words = nltk.word_tokenize(sentence)\n",
        "    sentence_words = [lemmatizer.lemmatize(word.lower()) for word in sentence_words]\n",
        "    return sentence_words\n",
        "\n",
        "\n",
        "\n",
        "\n",
        "def bow(sentence, words, show_details=True):\n",
        "\n",
        "    sentence_words = clean_up_sentence(sentence)\n",
        "\n",
        "    bag = [0]*len(words)\n",
        "    for s in sentence_words:\n",
        "        for i,w in enumerate(words):\n",
        "            if w == s:\n",
        "\n",
        "                bag[i] = 1\n",
        "                if show_details:\n",
        "                    print (\"found in bag: %s\" % w)\n",
        "    return(np.array(bag))\n",
        "\n",
        "def predict_class(sentence, model):\n",
        "\n",
        "    p = bow(sentence, words,show_details=False)\n",
        "    res = model.predict(np.array([p]))[0]\n",
        "    error = 0.25\n",
        "    results = [[i,r] for i,r in enumerate(res) if r>error]\n",
        "\n",
        "    results.sort(key=lambda x: x[1], reverse=True)\n",
        "    return_list = []\n",
        "\n",
        "    for r in results:\n",
        "        return_list.append({\"intent\": classes[r[0]], \"probability\": str(r[1])})\n",
        "    return return_list"
      ],
      "metadata": {
        "id": "1pZh6cq_FEiy"
      },
      "execution_count": 12,
      "outputs": []
    },
    {
      "cell_type": "code",
      "source": [
        "def getResponse(ints, intents_json):\n",
        "    tag = ints[0]['intent']\n",
        "    list_of_intents = intents_json['intents']\n",
        "    for i in list_of_intents:\n",
        "        if(i['tag']== tag):\n",
        "            result = random.choice(i['responses'])\n",
        "            break\n",
        "    return result\n",
        "\n",
        "def chatbot_response(text):\n",
        "    ints = predict_class(text, model)\n",
        "    res = getResponse(ints, intents)\n",
        "    return res"
      ],
      "metadata": {
        "id": "nGcfTOI0Qlbc"
      },
      "execution_count": 13,
      "outputs": []
    },
    {
      "cell_type": "code",
      "source": [
        "def start_chat():\n",
        "    print(\"Bot: This is Sophie! Your Personal Assistant.\\n\\n\")\n",
        "    while True:\n",
        "        inp = str(input()).lower()\n",
        "        if inp.lower()==\"end\":\n",
        "            break\n",
        "        if inp.lower()== '' or inp.lower()== '*':\n",
        "            print('Please re-phrase your query!')\n",
        "            print(\"-\"*50)\n",
        "        else:\n",
        "            print(f\"Bot: {chatbot_response(inp)}\"+'\\n')\n",
        "            print(\"-\"*50)"
      ],
      "metadata": {
        "id": "xQ69hce3Qle5"
      },
      "execution_count": 14,
      "outputs": []
    },
    {
      "cell_type": "code",
      "source": [
        "start_chat()\n"
      ],
      "metadata": {
        "colab": {
          "base_uri": "https://localhost:8080/"
        },
        "id": "gjdWL3t9Qlu4",
        "outputId": "0ff4bd6b-7f06-4b5b-b723-e6cd30155d83"
      },
      "execution_count": 15,
      "outputs": [
        {
          "name": "stdout",
          "output_type": "stream",
          "text": [
            "Bot: This is Sophie! Your Personal Assistant.\n",
            "\n",
            "\n",
            "hi\n",
            "1/1 [==============================] - 0s 138ms/step\n",
            "Bot: Hello! how can i help you ?\n",
            "\n",
            "--------------------------------------------------\n",
            "end\n"
          ]
        }
      ]
    }
  ]
}